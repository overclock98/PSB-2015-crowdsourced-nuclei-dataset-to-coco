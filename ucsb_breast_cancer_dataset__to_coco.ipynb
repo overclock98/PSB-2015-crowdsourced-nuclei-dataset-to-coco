{
  "nbformat": 4,
  "nbformat_minor": 0,
  "metadata": {
    "colab": {
      "name": "ucsb_breast_cancer_dataset _to coco.ipynb",
      "provenance": [],
      "collapsed_sections": [],
      "authorship_tag": "ABX9TyP1CgkZtr3A14IQ62kJhuXY",
      "include_colab_link": true
    },
    "kernelspec": {
      "name": "python3",
      "display_name": "Python 3"
    }
  },
  "cells": [
    {
      "cell_type": "markdown",
      "metadata": {
        "id": "view-in-github",
        "colab_type": "text"
      },
      "source": [
        "<a href=\"https://colab.research.google.com/github/overclock98/PSB-2015-crowdsourced-nuclei-dataset-to-coco/blob/master/ucsb_breast_cancer_dataset__to_coco.ipynb\" target=\"_parent\"><img src=\"https://colab.research.google.com/assets/colab-badge.svg\" alt=\"Open In Colab\"/></a>"
      ]
    },
    {
      "cell_type": "markdown",
      "metadata": {
        "id": "CIkI1fC-0FsD",
        "colab_type": "text"
      },
      "source": [
        "mount gdrive"
      ]
    },
    {
      "cell_type": "code",
      "metadata": {
        "id": "Tm_VgYjgdknx",
        "colab_type": "code",
        "colab": {
          "base_uri": "https://localhost:8080/",
          "height": 122
        },
        "outputId": "f529a0f9-46ae-4a02-bfd2-8283783e5ed1"
      },
      "source": [
        "from google.colab import drive\n",
        "drive.mount('/content/drive')"
      ],
      "execution_count": 1,
      "outputs": [
        {
          "output_type": "stream",
          "text": [
            "Go to this URL in a browser: https://accounts.google.com/o/oauth2/auth?client_id=947318989803-6bn6qk8qdgf4n4g3pfee6491hc0brc4i.apps.googleusercontent.com&redirect_uri=urn%3aietf%3awg%3aoauth%3a2.0%3aoob&scope=email%20https%3a%2f%2fwww.googleapis.com%2fauth%2fdocs.test%20https%3a%2f%2fwww.googleapis.com%2fauth%2fdrive%20https%3a%2f%2fwww.googleapis.com%2fauth%2fdrive.photos.readonly%20https%3a%2f%2fwww.googleapis.com%2fauth%2fpeopleapi.readonly&response_type=code\n",
            "\n",
            "Enter your authorization code:\n",
            "··········\n",
            "Mounted at /content/drive\n"
          ],
          "name": "stdout"
        }
      ]
    },
    {
      "cell_type": "markdown",
      "metadata": {
        "id": "5mChg7Ce0Rgd",
        "colab_type": "text"
      },
      "source": [
        "copy dataset to colab env."
      ]
    },
    {
      "cell_type": "code",
      "metadata": {
        "id": "Wm3g8OpMOJQg",
        "colab_type": "code",
        "colab": {}
      },
      "source": [
        "!mkdir BreastCancer"
      ],
      "execution_count": 2,
      "outputs": []
    },
    {
      "cell_type": "code",
      "metadata": {
        "id": "JSeWD3w1G2L0",
        "colab_type": "code",
        "colab": {
          "base_uri": "https://localhost:8080/",
          "height": 51
        },
        "outputId": "88cebd5e-9573-4883-d645-3accc1b28e80"
      },
      "source": [
        "ls \"/content/drive/My Drive/Colab Notebooks/Datasets/breast_cancer_dataset/\""
      ],
      "execution_count": 3,
      "outputs": [
        {
          "output_type": "stream",
          "text": [
            "\u001b[0m\u001b[01;36mbisque-20191217.065058\u001b[0m@        bisque-20200902.070801.tar.gz\n",
            "bisque-20200808.061527.tar.gz  \u001b[01;36mBreastCancer\u001b[0m@\n"
          ],
          "name": "stdout"
        }
      ]
    },
    {
      "cell_type": "markdown",
      "metadata": {
        "id": "sQUm-J_E7y8F",
        "colab_type": "text"
      },
      "source": [
        "https://bioimage.ucsb.edu/research/bio-segmentation"
      ]
    },
    {
      "cell_type": "code",
      "metadata": {
        "id": "32LLtJTBHDm7",
        "colab_type": "code",
        "colab": {}
      },
      "source": [
        "!cp \"/content/drive/My Drive/Colab Notebooks/Datasets/breast_cancer_dataset/bisque-20200902.070801.tar.gz\" /content/BreastCancer\n",
        "!cp \"/content/drive/My Drive/Colab Notebooks/Datasets/breast_cancer_dataset/bisque-20200808.061527.tar.gz\" /content/BreastCancer"
      ],
      "execution_count": 4,
      "outputs": []
    },
    {
      "cell_type": "code",
      "metadata": {
        "id": "CjGx0WHmH795",
        "colab_type": "code",
        "colab": {
          "base_uri": "https://localhost:8080/",
          "height": 1000
        },
        "outputId": "bd8938be-92c1-4ce7-d489-e5d9f6cd7203"
      },
      "source": [
        "!tar xvzf /content/BreastCancer/bisque-20200808.061527.tar.gz -C /content/BreastCancer\n",
        "!tar xvzf /content/BreastCancer/bisque-20200902.070801.tar.gz -C /content/BreastCancer"
      ],
      "execution_count": 5,
      "outputs": [
        {
          "output_type": "stream",
          "text": [
            "Breast Cancer Cells GroundTruth/ytma55_030603_benign6.TIF\n",
            "Breast Cancer Cells GroundTruth/ytma55_030603_benign6.TIF.xml\n",
            "Breast Cancer Cells GroundTruth/ytma55_030603_benign5.TIF\n",
            "Breast Cancer Cells GroundTruth/ytma55_030603_benign5.TIF.xml\n",
            "Breast Cancer Cells GroundTruth/ytma55_030603_benign4.TIF\n",
            "Breast Cancer Cells GroundTruth/ytma55_030603_benign4.TIF.xml\n",
            "Breast Cancer Cells GroundTruth/ytma55_030603_benign3.TIF\n",
            "Breast Cancer Cells GroundTruth/ytma55_030603_benign3.TIF.xml\n",
            "Breast Cancer Cells GroundTruth/ytma55_030603_benign2.TIF\n",
            "Breast Cancer Cells GroundTruth/ytma55_030603_benign2.TIF.xml\n",
            "Breast Cancer Cells GroundTruth/ytma55_030603_benign1.TIF\n",
            "Breast Cancer Cells GroundTruth/ytma55_030603_benign1.TIF.xml\n",
            "Breast Cancer Cells GroundTruth/ytma49_111303_benign3.TIF\n",
            "Breast Cancer Cells GroundTruth/ytma49_111303_benign3.TIF.xml\n",
            "Breast Cancer Cells GroundTruth/ytma49_111303_benign2.TIF\n",
            "Breast Cancer Cells GroundTruth/ytma49_111303_benign2.TIF.xml\n",
            "Breast Cancer Cells GroundTruth/ytma49_111303_benign1.TIF\n",
            "Breast Cancer Cells GroundTruth/ytma49_111303_benign1.TIF.xml\n",
            "Breast Cancer Cells GroundTruth/ytma49_111003_benign3.TIF\n",
            "Breast Cancer Cells GroundTruth/ytma49_111003_benign3.TIF.xml\n",
            "Breast Cancer Cells GroundTruth/ytma49_111003_benign2.TIF\n",
            "Breast Cancer Cells GroundTruth/ytma49_111003_benign2.TIF.xml\n",
            "Breast Cancer Cells GroundTruth/ytma49_111003_benign1.TIF\n",
            "Breast Cancer Cells GroundTruth/ytma49_111003_benign1.TIF.xml\n",
            "Breast Cancer Cells GroundTruth/ytma49_072303_benign2.TIF\n",
            "Breast Cancer Cells GroundTruth/ytma49_072303_benign2.TIF.xml\n",
            "Breast Cancer Cells GroundTruth/ytma49_072303_benign1.TIF\n",
            "Breast Cancer Cells GroundTruth/ytma49_072303_benign1.TIF.xml\n",
            "Breast Cancer Cells GroundTruth/ytma49_042403_benign3.TIF\n",
            "Breast Cancer Cells GroundTruth/ytma49_042403_benign3.TIF.xml\n",
            "Breast Cancer Cells GroundTruth/ytma49_042403_benign2.TIF\n",
            "Breast Cancer Cells GroundTruth/ytma49_042403_benign2.TIF.xml\n",
            "Breast Cancer Cells GroundTruth/ytma49_042403_benign1.TIF\n",
            "Breast Cancer Cells GroundTruth/ytma49_042403_benign1.TIF.xml\n",
            "Breast Cancer Cells GroundTruth/ytma49_042203_benign3.TIF\n",
            "Breast Cancer Cells GroundTruth/ytma49_042203_benign3.TIF.xml\n",
            "Breast Cancer Cells GroundTruth/ytma49_042203_benign2.TIF\n",
            "Breast Cancer Cells GroundTruth/ytma49_042203_benign2.TIF.xml\n",
            "Breast Cancer Cells GroundTruth/ytma49_042203_benign1.TIF\n",
            "Breast Cancer Cells GroundTruth/ytma49_042203_benign1.TIF.xml\n",
            "Breast Cancer Cells GroundTruth/ytma49_042003_benign3.TIF\n",
            "Breast Cancer Cells GroundTruth/ytma49_042003_benign3.TIF.xml\n",
            "Breast Cancer Cells GroundTruth/ytma49_042003_benign2.TIF\n",
            "Breast Cancer Cells GroundTruth/ytma49_042003_benign2.TIF.xml\n",
            "Breast Cancer Cells GroundTruth/ytma49_042003_benign1.TIF\n",
            "Breast Cancer Cells GroundTruth/ytma49_042003_benign1.TIF.xml\n",
            "Breast Cancer Cells GroundTruth/ytma23_022103_benign3.TIF\n",
            "Breast Cancer Cells GroundTruth/ytma23_022103_benign3.TIF.xml\n",
            "Breast Cancer Cells GroundTruth/ytma23_022103_benign2.TIF\n",
            "Breast Cancer Cells GroundTruth/ytma23_022103_benign2.TIF.xml\n",
            "Breast Cancer Cells GroundTruth/ytma23_022103_benign1.TIF\n",
            "Breast Cancer Cells GroundTruth/ytma23_022103_benign1.TIF.xml\n",
            "Breast Cancer Cells GroundTruth/ytma12_010804_benign3.TIF\n",
            "Breast Cancer Cells GroundTruth/ytma12_010804_benign3.TIF.xml\n",
            "Breast Cancer Cells GroundTruth/ytma12_010804_benign2.TIF\n",
            "Breast Cancer Cells GroundTruth/ytma12_010804_benign2.TIF.xml\n",
            "Breast Cancer Cells GroundTruth/ytma12_010804_benign1.TIF\n",
            "Breast Cancer Cells GroundTruth/ytma12_010804_benign1.TIF.xml\n",
            "Breast Cancer Cells GroundTruth/ytma10_010704_benign3.TIF\n",
            "Breast Cancer Cells GroundTruth/ytma10_010704_benign3.TIF.xml\n",
            "Breast Cancer Cells GroundTruth/ytma10_010704_benign2.TIF\n",
            "Breast Cancer Cells GroundTruth/ytma10_010704_benign2.TIF.xml\n",
            "Breast Cancer Cells GroundTruth/ytma10_010704_benign1.TIF\n",
            "Breast Cancer Cells GroundTruth/ytma10_010704_benign1.TIF.xml\n",
            "Breast Cancer Cells GroundTruth/ytma49_111303_malignant3.TIF\n",
            "Breast Cancer Cells GroundTruth/ytma49_111303_malignant3.TIF.xml\n",
            "Breast Cancer Cells GroundTruth/ytma49_111303_malignant2.TIF\n",
            "Breast Cancer Cells GroundTruth/ytma49_111303_malignant2.TIF.xml\n",
            "Breast Cancer Cells GroundTruth/ytma49_111303_malignant1.TIF\n",
            "Breast Cancer Cells GroundTruth/ytma49_111303_malignant1.TIF.xml\n",
            "Breast Cancer Cells GroundTruth/ytma49_111003_malignant3.TIF\n",
            "Breast Cancer Cells GroundTruth/ytma49_111003_malignant3.TIF.xml\n",
            "Breast Cancer Cells GroundTruth/ytma49_111003_malignant2.TIF\n",
            "Breast Cancer Cells GroundTruth/ytma49_111003_malignant2.TIF.xml\n",
            "Breast Cancer Cells GroundTruth/ytma49_111003_malignant1.TIF\n",
            "Breast Cancer Cells GroundTruth/ytma49_111003_malignant1.TIF.xml\n",
            "Breast Cancer Cells GroundTruth/ytma49_072303_malignant2.TIF\n",
            "Breast Cancer Cells GroundTruth/ytma49_072303_malignant2.TIF.xml\n",
            "Breast Cancer Cells GroundTruth/ytma49_072303_malignant1.TIF\n",
            "Breast Cancer Cells GroundTruth/ytma49_072303_malignant1.TIF.xml\n",
            "Breast Cancer Cells GroundTruth/ytma49_042403_malignant3.TIF\n",
            "Breast Cancer Cells GroundTruth/ytma49_042403_malignant3.TIF.xml\n",
            "Breast Cancer Cells GroundTruth/ytma49_042403_malignant2.TIF\n",
            "Breast Cancer Cells GroundTruth/ytma49_042403_malignant2.TIF.xml\n",
            "Breast Cancer Cells GroundTruth/ytma49_042403_malignant1.TIF\n",
            "Breast Cancer Cells GroundTruth/ytma49_042403_malignant1.TIF.xml\n",
            "Breast Cancer Cells GroundTruth/ytma49_042203_malignant3.TIF\n",
            "Breast Cancer Cells GroundTruth/ytma49_042203_malignant3.TIF.xml\n",
            "Breast Cancer Cells GroundTruth/ytma49_042203_malignant2.TIF\n",
            "Breast Cancer Cells GroundTruth/ytma49_042203_malignant2.TIF.xml\n",
            "Breast Cancer Cells GroundTruth/ytma49_042203_malignant1.TIF\n",
            "Breast Cancer Cells GroundTruth/ytma49_042203_malignant1.TIF.xml\n",
            "Breast Cancer Cells GroundTruth/ytma49_042003_malignant3.TIF\n",
            "Breast Cancer Cells GroundTruth/ytma49_042003_malignant3.TIF.xml\n",
            "Breast Cancer Cells GroundTruth/ytma49_042003_malignant2.TIF\n",
            "Breast Cancer Cells GroundTruth/ytma49_042003_malignant2.TIF.xml\n",
            "Breast Cancer Cells GroundTruth/ytma49_042003_malignant1.TIF\n",
            "Breast Cancer Cells GroundTruth/ytma49_042003_malignant1.TIF.xml\n",
            "Breast Cancer Cells GroundTruth/ytma23_022103_malignant3.TIF\n",
            "Breast Cancer Cells GroundTruth/ytma23_022103_malignant3.TIF.xml\n",
            "Breast Cancer Cells GroundTruth/ytma23_022103_malignant2.TIF\n",
            "Breast Cancer Cells GroundTruth/ytma23_022103_malignant2.TIF.xml\n",
            "Breast Cancer Cells GroundTruth/ytma23_022103_malignant1.TIF\n",
            "Breast Cancer Cells GroundTruth/ytma23_022103_malignant1.TIF.xml\n",
            "Breast Cancer Cells GroundTruth/ytma12_010804_malignant3.TIF\n",
            "Breast Cancer Cells GroundTruth/ytma12_010804_malignant3.TIF.xml\n",
            "Breast Cancer Cells GroundTruth/ytma12_010804_malignant2.TIF\n",
            "Breast Cancer Cells GroundTruth/ytma12_010804_malignant2.TIF.xml\n",
            "Breast Cancer Cells GroundTruth/ytma12_010804_malignant1.TIF\n",
            "Breast Cancer Cells GroundTruth/ytma12_010804_malignant1.TIF.xml\n",
            "Breast Cancer Cells GroundTruth/ytma10_010704_malignant3.TIF\n",
            "Breast Cancer Cells GroundTruth/ytma10_010704_malignant3.TIF.xml\n",
            "Breast Cancer Cells GroundTruth/ytma10_010704_malignant2.TIF\n",
            "Breast Cancer Cells GroundTruth/ytma10_010704_malignant2.TIF.xml\n",
            "Breast Cancer Cells GroundTruth/ytma10_010704_malignant1.TIF\n",
            "Breast Cancer Cells GroundTruth/ytma10_010704_malignant1.TIF.xml\n",
            "Breast Cancer Cells GroundTruth.xml\n",
            ".bisque.xml\n",
            "Breast Cancer Cells/ytma10_010704_malignant1_ccd.tif\n",
            "Breast Cancer Cells/ytma10_010704_malignant1_ccd.tif.xml\n",
            "Breast Cancer Cells/ytma10_010704_malignant2_ccd.tif\n",
            "Breast Cancer Cells/ytma10_010704_malignant2_ccd.tif.xml\n",
            "Breast Cancer Cells/ytma10_010704_malignant3_ccd.tif\n",
            "Breast Cancer Cells/ytma10_010704_malignant3_ccd.tif.xml\n",
            "Breast Cancer Cells/ytma12_010804_malignant1_ccd.tif\n",
            "Breast Cancer Cells/ytma12_010804_malignant1_ccd.tif.xml\n",
            "Breast Cancer Cells/ytma12_010804_malignant2_ccd.tif\n",
            "Breast Cancer Cells/ytma12_010804_malignant2_ccd.tif.xml\n",
            "Breast Cancer Cells/ytma12_010804_malignant3_ccd.tif\n",
            "Breast Cancer Cells/ytma12_010804_malignant3_ccd.tif.xml\n",
            "Breast Cancer Cells/ytma23_022103_malignant1_ccd.tif\n",
            "Breast Cancer Cells/ytma23_022103_malignant1_ccd.tif.xml\n",
            "Breast Cancer Cells/ytma23_022103_malignant2_ccd.tif\n",
            "Breast Cancer Cells/ytma23_022103_malignant2_ccd.tif.xml\n",
            "Breast Cancer Cells/ytma23_022103_malignant3_ccd.tif\n",
            "Breast Cancer Cells/ytma23_022103_malignant3_ccd.tif.xml\n",
            "Breast Cancer Cells/ytma49_042003_malignant1_ccd.tif\n",
            "Breast Cancer Cells/ytma49_042003_malignant1_ccd.tif.xml\n",
            "Breast Cancer Cells/ytma49_042003_malignant2_ccd.tif\n",
            "Breast Cancer Cells/ytma49_042003_malignant2_ccd.tif.xml\n",
            "Breast Cancer Cells/ytma49_042003_malignant3_ccd.tif\n",
            "Breast Cancer Cells/ytma49_042003_malignant3_ccd.tif.xml\n",
            "Breast Cancer Cells/ytma49_042203_malignant1_ccd.tif\n",
            "Breast Cancer Cells/ytma49_042203_malignant1_ccd.tif.xml\n",
            "Breast Cancer Cells/ytma49_042203_malignant2_ccd.tif\n",
            "Breast Cancer Cells/ytma49_042203_malignant2_ccd.tif.xml\n",
            "Breast Cancer Cells/ytma49_042203_malignant3_ccd.tif\n",
            "Breast Cancer Cells/ytma49_042203_malignant3_ccd.tif.xml\n",
            "Breast Cancer Cells/ytma49_042403_malignant1_ccd.tif\n",
            "Breast Cancer Cells/ytma49_042403_malignant1_ccd.tif.xml\n",
            "Breast Cancer Cells/ytma49_042403_malignant2_ccd.tif\n",
            "Breast Cancer Cells/ytma49_042403_malignant2_ccd.tif.xml\n",
            "Breast Cancer Cells/ytma49_042403_malignant3_ccd.tif\n",
            "Breast Cancer Cells/ytma49_042403_malignant3_ccd.tif.xml\n",
            "Breast Cancer Cells/ytma49_072303_malignant1_ccd.tif\n",
            "Breast Cancer Cells/ytma49_072303_malignant1_ccd.tif.xml\n",
            "Breast Cancer Cells/ytma49_072303_malignant2_ccd.tif\n",
            "Breast Cancer Cells/ytma49_072303_malignant2_ccd.tif.xml\n",
            "Breast Cancer Cells/ytma49_111003_malignant1_ccd.tif\n",
            "Breast Cancer Cells/ytma49_111003_malignant1_ccd.tif.xml\n",
            "Breast Cancer Cells/ytma49_111003_malignant2_ccd.tif\n",
            "Breast Cancer Cells/ytma49_111003_malignant2_ccd.tif.xml\n",
            "Breast Cancer Cells/ytma49_111003_malignant3_ccd.tif\n",
            "Breast Cancer Cells/ytma49_111003_malignant3_ccd.tif.xml\n",
            "Breast Cancer Cells/ytma49_111303_malignant1_ccd.tif\n",
            "Breast Cancer Cells/ytma49_111303_malignant1_ccd.tif.xml\n",
            "Breast Cancer Cells/ytma49_111303_malignant2_ccd.tif\n",
            "Breast Cancer Cells/ytma49_111303_malignant2_ccd.tif.xml\n",
            "Breast Cancer Cells/ytma49_111303_malignant3_ccd.tif\n",
            "Breast Cancer Cells/ytma49_111303_malignant3_ccd.tif.xml\n",
            "Breast Cancer Cells/ytma10_010704_benign1_ccd.tif\n",
            "Breast Cancer Cells/ytma10_010704_benign1_ccd.tif.xml\n",
            "Breast Cancer Cells/ytma10_010704_benign2_ccd.tif\n",
            "Breast Cancer Cells/ytma10_010704_benign2_ccd.tif.xml\n",
            "Breast Cancer Cells/ytma10_010704_benign3_ccd.tif\n",
            "Breast Cancer Cells/ytma10_010704_benign3_ccd.tif.xml\n",
            "Breast Cancer Cells/ytma12_010804_benign1_ccd.tif\n",
            "Breast Cancer Cells/ytma12_010804_benign1_ccd.tif.xml\n",
            "Breast Cancer Cells/ytma12_010804_benign2_ccd.tif\n",
            "Breast Cancer Cells/ytma12_010804_benign2_ccd.tif.xml\n",
            "Breast Cancer Cells/ytma12_010804_benign3_ccd.tif\n",
            "Breast Cancer Cells/ytma12_010804_benign3_ccd.tif.xml\n",
            "Breast Cancer Cells/ytma23_022103_benign1_ccd.tif\n",
            "Breast Cancer Cells/ytma23_022103_benign1_ccd.tif.xml\n",
            "Breast Cancer Cells/ytma23_022103_benign2_ccd.tif\n",
            "Breast Cancer Cells/ytma23_022103_benign2_ccd.tif.xml\n",
            "Breast Cancer Cells/ytma23_022103_benign3_ccd.tif\n",
            "Breast Cancer Cells/ytma23_022103_benign3_ccd.tif.xml\n",
            "Breast Cancer Cells/ytma49_042003_benign1_ccd.tif\n",
            "Breast Cancer Cells/ytma49_042003_benign1_ccd.tif.xml\n",
            "Breast Cancer Cells/ytma49_042003_benign2_ccd.tif\n",
            "Breast Cancer Cells/ytma49_042003_benign2_ccd.tif.xml\n",
            "Breast Cancer Cells/ytma49_042003_benign3_ccd.tif\n",
            "Breast Cancer Cells/ytma49_042003_benign3_ccd.tif.xml\n",
            "Breast Cancer Cells/ytma49_042203_benign1_ccd.tif\n",
            "Breast Cancer Cells/ytma49_042203_benign1_ccd.tif.xml\n",
            "Breast Cancer Cells/ytma49_042203_benign2_ccd.tif\n",
            "Breast Cancer Cells/ytma49_042203_benign2_ccd.tif.xml\n",
            "Breast Cancer Cells/ytma49_042203_benign3_ccd.tif\n",
            "Breast Cancer Cells/ytma49_042203_benign3_ccd.tif.xml\n",
            "Breast Cancer Cells/ytma49_042403_benign1_ccd.tif\n",
            "Breast Cancer Cells/ytma49_042403_benign1_ccd.tif.xml\n",
            "Breast Cancer Cells/ytma49_042403_benign2_ccd.tif\n",
            "Breast Cancer Cells/ytma49_042403_benign2_ccd.tif.xml\n",
            "Breast Cancer Cells/ytma49_042403_benign3_ccd.tif\n",
            "Breast Cancer Cells/ytma49_042403_benign3_ccd.tif.xml\n",
            "Breast Cancer Cells/ytma49_072303_benign1_ccd.tif\n",
            "Breast Cancer Cells/ytma49_072303_benign1_ccd.tif.xml\n",
            "Breast Cancer Cells/ytma49_072303_benign2_ccd.tif\n",
            "Breast Cancer Cells/ytma49_072303_benign2_ccd.tif.xml\n",
            "Breast Cancer Cells/ytma49_111003_benign1_ccd.tif\n",
            "Breast Cancer Cells/ytma49_111003_benign1_ccd.tif.xml\n",
            "Breast Cancer Cells/ytma49_111003_benign2_ccd.tif\n",
            "Breast Cancer Cells/ytma49_111003_benign2_ccd.tif.xml\n",
            "Breast Cancer Cells/ytma49_111003_benign3_ccd.tif\n",
            "Breast Cancer Cells/ytma49_111003_benign3_ccd.tif.xml\n",
            "Breast Cancer Cells/ytma49_111303_benign1_ccd.tif\n",
            "Breast Cancer Cells/ytma49_111303_benign1_ccd.tif.xml\n",
            "Breast Cancer Cells/ytma49_111303_benign2_ccd.tif\n",
            "Breast Cancer Cells/ytma49_111303_benign2_ccd.tif.xml\n",
            "Breast Cancer Cells/ytma49_111303_benign3_ccd.tif\n",
            "Breast Cancer Cells/ytma49_111303_benign3_ccd.tif.xml\n",
            "Breast Cancer Cells/ytma55_030603_benign1_ccd.tif\n",
            "Breast Cancer Cells/ytma55_030603_benign1_ccd.tif.xml\n",
            "Breast Cancer Cells/ytma55_030603_benign2_ccd.tif\n",
            "Breast Cancer Cells/ytma55_030603_benign2_ccd.tif.xml\n",
            "Breast Cancer Cells/ytma55_030603_benign3_ccd.tif\n",
            "Breast Cancer Cells/ytma55_030603_benign3_ccd.tif.xml\n",
            "Breast Cancer Cells/ytma55_030603_benign4_ccd.tif\n",
            "Breast Cancer Cells/ytma55_030603_benign4_ccd.tif.xml\n",
            "Breast Cancer Cells/ytma55_030603_benign5_ccd.tif\n",
            "Breast Cancer Cells/ytma55_030603_benign5_ccd.tif.xml\n",
            "Breast Cancer Cells/ytma55_030603_benign6_ccd.tif\n",
            "Breast Cancer Cells/ytma55_030603_benign6_ccd.tif.xml\n",
            "Breast Cancer Cells.xml\n",
            ".bisque.xml\n"
          ],
          "name": "stdout"
        }
      ]
    },
    {
      "cell_type": "code",
      "metadata": {
        "id": "A2h3GxiCe57w",
        "colab_type": "code",
        "colab": {
          "base_uri": "https://localhost:8080/",
          "height": 68
        },
        "outputId": "b9f0fc59-8567-4712-b897-d40127d465a4"
      },
      "source": [
        "ls /content/BreastCancer/"
      ],
      "execution_count": 6,
      "outputs": [
        {
          "output_type": "stream",
          "text": [
            " bisque-20200808.061527.tar.gz  \u001b[0m\u001b[01;34m'Breast Cancer Cells GroundTruth'\u001b[0m/\n",
            " bisque-20200902.070801.tar.gz  'Breast Cancer Cells GroundTruth.xml'\n",
            "\u001b[01;34m'Breast Cancer Cells'\u001b[0m/          'Breast Cancer Cells.xml'\n"
          ],
          "name": "stdout"
        }
      ]
    },
    {
      "cell_type": "code",
      "metadata": {
        "id": "bik9V5iPZTHH",
        "colab_type": "code",
        "colab": {}
      },
      "source": [
        "!mkdir /content/BreastCancer/img\n",
        "!mkdir /content/BreastCancer/gt_img"
      ],
      "execution_count": 7,
      "outputs": []
    },
    {
      "cell_type": "markdown",
      "metadata": {
        "id": "75Xc9-Uk0blW",
        "colab_type": "text"
      },
      "source": [
        "list the dataset"
      ]
    },
    {
      "cell_type": "code",
      "metadata": {
        "id": "xTZUTtvnfgR2",
        "colab_type": "code",
        "colab": {
          "base_uri": "https://localhost:8080/",
          "height": 34
        },
        "outputId": "b664dfe3-8608-47c5-a1d6-7306e866b9c6"
      },
      "source": [
        "import glob\n",
        "len(glob.glob('/content/BreastCancer/Breast Cancer Cells/*.tif'))"
      ],
      "execution_count": 8,
      "outputs": [
        {
          "output_type": "execute_result",
          "data": {
            "text/plain": [
              "58"
            ]
          },
          "metadata": {
            "tags": []
          },
          "execution_count": 8
        }
      ]
    },
    {
      "cell_type": "code",
      "metadata": {
        "id": "bYxhIizxgeqg",
        "colab_type": "code",
        "colab": {
          "base_uri": "https://localhost:8080/",
          "height": 34
        },
        "outputId": "b85e8dee-81fb-4835-bdfc-7b1565faeb2c"
      },
      "source": [
        "len(glob.glob('/content/BreastCancer/Breast Cancer Cells GroundTruth/*.TIF'))"
      ],
      "execution_count": 9,
      "outputs": [
        {
          "output_type": "execute_result",
          "data": {
            "text/plain": [
              "58"
            ]
          },
          "metadata": {
            "tags": []
          },
          "execution_count": 9
        }
      ]
    },
    {
      "cell_type": "markdown",
      "metadata": {
        "id": "x8gEbg6m0k9D",
        "colab_type": "text"
      },
      "source": [
        "image augmentation and save as png"
      ]
    },
    {
      "cell_type": "code",
      "metadata": {
        "id": "9pJIUdZIXpbz",
        "colab_type": "code",
        "colab": {}
      },
      "source": [
        "import cv2\n",
        "\n",
        "for name in glob.glob('/content/BreastCancer/Breast Cancer Cells/*.tif'):\n",
        "    img = cv2.imread(name)\n",
        "    h, w, c = img.shape\n",
        "\n",
        "    crop_img = img[0:int(h/2), 0:int(w/2)]\n",
        "    name_1 = str(name).lstrip(\"content/BreastCancer/Breast Cancer Cells/\")\n",
        "    name_1 = \"/content/BreastCancer/img/\" + name_1\n",
        "    name_1 = name_1.replace(\"_ccd.tif\", \"1.png\")\n",
        "    cv2.imwrite(name_1, crop_img)\n",
        "\n",
        "    crop_img = img[0:int(h/2), int(w/2):w]\n",
        "    name_2 = str(name).lstrip(\"content/BreastCancer/Breast Cancer Cells/\")\n",
        "    name_2 = \"/content/BreastCancer/img/\" + name_2\n",
        "    name_2 = name_2.replace(\"_ccd.tif\", \"2.png\")\n",
        "    cv2.imwrite(name_2, crop_img)\n",
        "\n",
        "    crop_img = img[int(h/2):h, 0:int(w/2)]\n",
        "    name_3 = str(name).lstrip(\"content/BreastCancer/Breast Cancer Cells/\")\n",
        "    name_3 = \"/content/BreastCancer/img/\" + name_3\n",
        "    name_3 = name_3.replace(\"_ccd.tif\", \"3.png\")\n",
        "    cv2.imwrite(name_3, crop_img)\n",
        "\n",
        "    crop_img = img[int(h/2):h, int(w/2):w]\n",
        "    name_4 = str(name).lstrip(\"content/BreastCancer/Breast Cancer Cells/\")\n",
        "    name_4 = \"/content/BreastCancer/img/\" + name_4\n",
        "    name_4 = name_4.replace(\"_ccd.tif\", \"4.png\")\n",
        "    cv2.imwrite(name_4, crop_img)"
      ],
      "execution_count": 10,
      "outputs": []
    },
    {
      "cell_type": "code",
      "metadata": {
        "id": "megWLzkwgMlN",
        "colab_type": "code",
        "colab": {
          "base_uri": "https://localhost:8080/",
          "height": 34
        },
        "outputId": "8e0114ec-7847-461c-b726-55544d524250"
      },
      "source": [
        "len(glob.glob('/content/BreastCancer/img/*.png'))"
      ],
      "execution_count": 11,
      "outputs": [
        {
          "output_type": "execute_result",
          "data": {
            "text/plain": [
              "232"
            ]
          },
          "metadata": {
            "tags": []
          },
          "execution_count": 11
        }
      ]
    },
    {
      "cell_type": "code",
      "metadata": {
        "id": "Nlzu4Hnlejha",
        "colab_type": "code",
        "colab": {}
      },
      "source": [
        "for name in glob.glob('/content/BreastCancer/Breast Cancer Cells GroundTruth/*.TIF'):\n",
        "    img = cv2.imread(name)\n",
        "    h, w, c = img.shape\n",
        "\n",
        "    crop_img = img[0:int(h/2), 0:int(w/2)]\n",
        "    name_1 = str(name).lstrip(\"content/BreastCancer/Breast Cancer Cells GroundTruth/\")\n",
        "    name_1 = \"/content/BreastCancer/gt_img/\" + name_1\n",
        "    name_1 = name_1.replace(\".TIF\", \"1.png\")\n",
        "    cv2.imwrite(name_1, crop_img)\n",
        "\n",
        "    crop_img = img[0:int(h/2), int(w/2):w]\n",
        "    name_2 = str(name).lstrip(\"content/BreastCancer/Breast Cancer Cells GroundTruth\")\n",
        "    name_2 = \"/content/BreastCancer/gt_img/\" + name_2\n",
        "    name_2 = name_2.replace(\".TIF\", \"2.png\")\n",
        "    cv2.imwrite(name_2, crop_img)\n",
        "\n",
        "    crop_img = img[int(h/2):h, 0:int(w/2)]\n",
        "    name_3 = str(name).lstrip(\"content/BreastCancer/Breast Cancer Cells GroundTruth\")\n",
        "    name_3 = \"/content/BreastCancer/gt_img/\" + name_3\n",
        "    name_3 = name_3.replace(\".TIF\", \"3.png\")\n",
        "    cv2.imwrite(name_3, crop_img)\n",
        "\n",
        "    crop_img = img[int(h/2):h, int(w/2):w]\n",
        "    name_4 = str(name).lstrip(\"content/BreastCancer/Breast Cancer Cells GroundTruth\")\n",
        "    name_4 = \"/content/BreastCancer/gt_img/\" + name_4\n",
        "    name_4 = name_4.replace(\".TIF\", \"4.png\")\n",
        "    cv2.imwrite(name_4, crop_img)"
      ],
      "execution_count": 12,
      "outputs": []
    },
    {
      "cell_type": "code",
      "metadata": {
        "id": "tcRMtMWihEpQ",
        "colab_type": "code",
        "colab": {
          "base_uri": "https://localhost:8080/",
          "height": 34
        },
        "outputId": "0923662f-bae0-4fec-b867-b22dddc47985"
      },
      "source": [
        "len(glob.glob('/content/BreastCancer/gt_img/*.png'))"
      ],
      "execution_count": 13,
      "outputs": [
        {
          "output_type": "execute_result",
          "data": {
            "text/plain": [
              "232"
            ]
          },
          "metadata": {
            "tags": []
          },
          "execution_count": 13
        }
      ]
    },
    {
      "cell_type": "markdown",
      "metadata": {
        "id": "oendbOvf06D0",
        "colab_type": "text"
      },
      "source": [
        "install pycocotools to convert masks to coco format"
      ]
    },
    {
      "cell_type": "code",
      "metadata": {
        "id": "RlINNwQ9240u",
        "colab_type": "code",
        "colab": {
          "base_uri": "https://localhost:8080/",
          "height": 309
        },
        "outputId": "133a1c80-7df3-4e1e-e67e-2e3743251084"
      },
      "source": [
        "!pip install git+git://github.com/waspinator/coco.git@2.1.0"
      ],
      "execution_count": 14,
      "outputs": [
        {
          "output_type": "stream",
          "text": [
            "Collecting git+git://github.com/waspinator/coco.git@2.1.0\n",
            "  Cloning git://github.com/waspinator/coco.git (to revision 2.1.0) to /tmp/pip-req-build-zw12q1q7\n",
            "  Running command git clone -q git://github.com/waspinator/coco.git /tmp/pip-req-build-zw12q1q7\n",
            "  Running command git checkout -q cd69b031a5dafdd40c0b2c52bd4a9c5d7f11382e\n",
            "Requirement already satisfied: numpy in /usr/local/lib/python3.6/dist-packages (from pycocotools==2.1) (1.18.5)\n",
            "Requirement already satisfied: cython in /usr/local/lib/python3.6/dist-packages (from pycocotools==2.1) (0.29.21)\n",
            "Building wheels for collected packages: pycocotools\n",
            "  Building wheel for pycocotools (setup.py) ... \u001b[?25l\u001b[?25hdone\n",
            "  Created wheel for pycocotools: filename=pycocotools-2.1-cp36-cp36m-linux_x86_64.whl size=285465 sha256=a54959f7b24ecec80f2e1f7816947e320185e64cca678a9392f9bf8fb270fadb\n",
            "  Stored in directory: /tmp/pip-ephem-wheel-cache-0ngibx10/wheels/42/68/4d/0ae439f3aece2e517244d3194de0db684e0e3d3b73bdbd5533\n",
            "Successfully built pycocotools\n",
            "Installing collected packages: pycocotools\n",
            "  Found existing installation: pycocotools 2.0.1\n",
            "    Uninstalling pycocotools-2.0.1:\n",
            "      Successfully uninstalled pycocotools-2.0.1\n",
            "Successfully installed pycocotools-2.1\n"
          ],
          "name": "stdout"
        }
      ]
    },
    {
      "cell_type": "code",
      "metadata": {
        "id": "39JdTfhIsIXG",
        "colab_type": "code",
        "colab": {
          "base_uri": "https://localhost:8080/",
          "height": 136
        },
        "outputId": "86433573-e364-4648-db7c-8079f4c414cf"
      },
      "source": [
        "#!git clone https://github.com/waspinator/pycococreator.git\n",
        "!git clone https://github.com/TathyaEarth/pycococreator.git"
      ],
      "execution_count": 15,
      "outputs": [
        {
          "output_type": "stream",
          "text": [
            "Cloning into 'pycococreator'...\n",
            "remote: Enumerating objects: 20, done.\u001b[K\n",
            "remote: Counting objects: 100% (20/20), done.\u001b[K\n",
            "remote: Compressing objects: 100% (18/18), done.\u001b[K\n",
            "remote: Total 185 (delta 6), reused 11 (delta 2), pack-reused 165\u001b[K\n",
            "Receiving objects: 100% (185/185), 188.00 KiB | 5.70 MiB/s, done.\n",
            "Resolving deltas: 100% (80/80), done.\n"
          ],
          "name": "stdout"
        }
      ]
    },
    {
      "cell_type": "code",
      "metadata": {
        "id": "TKbWX9bO7_aL",
        "colab_type": "code",
        "colab": {}
      },
      "source": [
        "!mkdir /content/pycococreator/ucsb_dataset\n",
        "!mkdir /content/pycococreator/ucsb_dataset/Original_Images\n",
        "!mkdir /content/pycococreator/ucsb_dataset/Original_Images/malignant\n",
        "!mkdir /content/pycococreator/ucsb_dataset/Original_Images/benign"
      ],
      "execution_count": 16,
      "outputs": []
    },
    {
      "cell_type": "markdown",
      "metadata": {
        "id": "WxXnC9uT1JrR",
        "colab_type": "text"
      },
      "source": [
        "split dataset into test and train using split-folders"
      ]
    },
    {
      "cell_type": "code",
      "metadata": {
        "id": "mccVBTW5U0nc",
        "colab_type": "code",
        "colab": {}
      },
      "source": [
        "import shutil\n",
        "import glob\n",
        "\n",
        "for name in glob.glob('/content/BreastCancer/img/*malignant*'):\n",
        "    name = str(name).lstrip(\"/content/BreastCancer/img/\")\n",
        "    source = \"/content/BreastCancer/img/\"+name\n",
        "    destination = \"/content/pycococreator/ucsb_dataset/Original_Images/malignant/\"+name\n",
        "    dest = shutil.copyfile(source, destination)"
      ],
      "execution_count": 17,
      "outputs": []
    },
    {
      "cell_type": "code",
      "metadata": {
        "id": "6U-pvHV_ls_5",
        "colab_type": "code",
        "colab": {}
      },
      "source": [
        "for name in glob.glob('/content/BreastCancer/img/*benign*'):\n",
        "    name = str(name).lstrip(\"/content/BreastCancer/img/\")\n",
        "    source = \"/content/BreastCancer/img/\"+name\n",
        "    destination = \"/content/pycococreator/ucsb_dataset/Original_Images/benign/\"+name\n",
        "    dest = shutil.copyfile(source, destination)"
      ],
      "execution_count": 18,
      "outputs": []
    },
    {
      "cell_type": "code",
      "metadata": {
        "id": "CVZnRkOyyUnt",
        "colab_type": "code",
        "colab": {
          "base_uri": "https://localhost:8080/",
          "height": 34
        },
        "outputId": "1c6ad96b-0865-46d0-d88c-34efa76ad549"
      },
      "source": [
        "len(glob.glob('/content/pycococreator/ucsb_dataset/Original_Images/benign/*.png'))"
      ],
      "execution_count": 19,
      "outputs": [
        {
          "output_type": "execute_result",
          "data": {
            "text/plain": [
              "128"
            ]
          },
          "metadata": {
            "tags": []
          },
          "execution_count": 19
        }
      ]
    },
    {
      "cell_type": "code",
      "metadata": {
        "id": "pNKbxEdtXAF2",
        "colab_type": "code",
        "colab": {
          "base_uri": "https://localhost:8080/",
          "height": 34
        },
        "outputId": "ee1f0cfe-ead9-4a15-b3e3-907aeabfbfbb"
      },
      "source": [
        "len(glob.glob('/content/pycococreator/ucsb_dataset/Original_Images/malignant/*.png'))"
      ],
      "execution_count": 20,
      "outputs": [
        {
          "output_type": "execute_result",
          "data": {
            "text/plain": [
              "104"
            ]
          },
          "metadata": {
            "tags": []
          },
          "execution_count": 20
        }
      ]
    },
    {
      "cell_type": "code",
      "metadata": {
        "id": "fdvbcg47y_ar",
        "colab_type": "code",
        "colab": {
          "base_uri": "https://localhost:8080/",
          "height": 105
        },
        "outputId": "9cb064bb-fa3b-4691-9511-576d3df7d608"
      },
      "source": [
        "!pip install split-folders"
      ],
      "execution_count": 21,
      "outputs": [
        {
          "output_type": "stream",
          "text": [
            "Collecting split-folders\n",
            "  Downloading https://files.pythonhosted.org/packages/d1/4b/7b282b0f9319189d71e803220748929b37d019b67b1782d14c59cb1bd940/split_folders-0.4.2-py3-none-any.whl\n",
            "Installing collected packages: split-folders\n",
            "Successfully installed split-folders-0.4.2\n"
          ],
          "name": "stdout"
        }
      ]
    },
    {
      "cell_type": "code",
      "metadata": {
        "id": "J--7W_Co0KvW",
        "colab_type": "code",
        "colab": {
          "base_uri": "https://localhost:8080/",
          "height": 34
        },
        "outputId": "01db9339-1789-406c-a9a3-478f5ae8f016"
      },
      "source": [
        "import splitfolders\n",
        "splitfolders.ratio(\"/content/pycococreator/ucsb_dataset/Original_Images\", output=\"/content/pycococreator/ucsb_dataset\", seed=1337, ratio=(.8, .2), group_prefix=None)"
      ],
      "execution_count": 22,
      "outputs": [
        {
          "output_type": "stream",
          "text": [
            "Copying files: 232 files [00:00, 1818.27 files/s]\n"
          ],
          "name": "stderr"
        }
      ]
    },
    {
      "cell_type": "markdown",
      "metadata": {
        "id": "BI31hzuB1ddZ",
        "colab_type": "text"
      },
      "source": [
        "move files to requerd dir."
      ]
    },
    {
      "cell_type": "code",
      "metadata": {
        "id": "bMQPGFQ90aBP",
        "colab_type": "code",
        "colab": {}
      },
      "source": [
        "!mv /content/pycococreator/ucsb_dataset/train/benign/* /content/pycococreator/ucsb_dataset/train/\n",
        "!mv /content/pycococreator/ucsb_dataset/train/malignant/* /content/pycococreator/ucsb_dataset/train/\n",
        "!rm -r /content/pycococreator/ucsb_dataset/train/benign\n",
        "!rm -r /content/pycococreator/ucsb_dataset/train/malignant\n",
        "\n",
        "!mv /content/pycococreator/ucsb_dataset/val/benign/* /content/pycococreator/ucsb_dataset/val/\n",
        "!mv /content/pycococreator/ucsb_dataset/val/malignant/* /content/pycococreator/ucsb_dataset/val/\n",
        "!rm -r /content/pycococreator/ucsb_dataset/val/benign\n",
        "!rm -r /content/pycococreator/ucsb_dataset/val/malignant\n",
        "\n",
        "!mv /content/pycococreator/ucsb_dataset/val/ /content/pycococreator/ucsb_dataset/test/"
      ],
      "execution_count": 23,
      "outputs": []
    },
    {
      "cell_type": "code",
      "metadata": {
        "id": "i8qboqcn1J3v",
        "colab_type": "code",
        "colab": {}
      },
      "source": [
        "!mkdir /content/pycococreator/ucsb_dataset/test_ann\n",
        "!mkdir /content/pycococreator/ucsb_dataset/train_ann"
      ],
      "execution_count": 24,
      "outputs": []
    },
    {
      "cell_type": "code",
      "metadata": {
        "id": "tnPMP_XJ0iYb",
        "colab_type": "code",
        "colab": {
          "base_uri": "https://localhost:8080/",
          "height": 34
        },
        "outputId": "78c1465c-1faf-4d03-c8e1-c9117688d2b5"
      },
      "source": [
        "ls /content/pycococreator/ucsb_dataset"
      ],
      "execution_count": 25,
      "outputs": [
        {
          "output_type": "stream",
          "text": [
            "\u001b[0m\u001b[01;34mOriginal_Images\u001b[0m/  \u001b[01;34mtest\u001b[0m/  \u001b[01;34mtest_ann\u001b[0m/  \u001b[01;34mtrain\u001b[0m/  \u001b[01;34mtrain_ann\u001b[0m/\n"
          ],
          "name": "stdout"
        }
      ]
    },
    {
      "cell_type": "code",
      "metadata": {
        "id": "2ANHHow00zeZ",
        "colab_type": "code",
        "colab": {}
      },
      "source": [
        "for name in glob.glob('/content/pycococreator/ucsb_dataset/test/*.png'):\n",
        "    name = str(name).lstrip(\"/content/pycococreator/\")\n",
        "    name = str(name).lstrip(\"ucsb_dataset/test/\")\n",
        "    source = \"/content/BreastCancer/gt_img/\"+name\n",
        "    destination = \"/content/pycococreator/ucsb_dataset/test_ann/\"+name\n",
        "    dest = shutil.copyfile(source, destination)"
      ],
      "execution_count": 26,
      "outputs": []
    },
    {
      "cell_type": "code",
      "metadata": {
        "id": "XoJzgHVO25nY",
        "colab_type": "code",
        "colab": {}
      },
      "source": [
        "for name in glob.glob('/content/pycococreator/ucsb_dataset/train/*.png'):\n",
        "    name = str(name).lstrip(\"/content/pycococreator/ucsb_dataset\")\n",
        "    name = str(name).lstrip(\"in/\")\n",
        "    source = \"/content/BreastCancer/gt_img/\"+name\n",
        "    destination = \"/content/pycococreator/ucsb_dataset/train_ann/\"+name\n",
        "    dest = shutil.copyfile(source, destination)"
      ],
      "execution_count": 27,
      "outputs": []
    },
    {
      "cell_type": "markdown",
      "metadata": {
        "id": "E1S1cHYe1tfg",
        "colab_type": "text"
      },
      "source": [
        "list test and train dir."
      ]
    },
    {
      "cell_type": "code",
      "metadata": {
        "id": "urHSgih4lEYo",
        "colab_type": "code",
        "colab": {
          "base_uri": "https://localhost:8080/",
          "height": 85
        },
        "outputId": "2f7e6c59-38c3-4790-b7c7-83792d24e196"
      },
      "source": [
        "print(len(glob.glob('/content/pycococreator/ucsb_dataset/test/*.png')))\n",
        "print(len(glob.glob('/content/pycococreator/ucsb_dataset/test_ann/*.png')))\n",
        "\n",
        "print(len(glob.glob('/content/pycococreator/ucsb_dataset/train/*.png')))\n",
        "print(len(glob.glob('/content/pycococreator/ucsb_dataset/train_ann/*.png')))"
      ],
      "execution_count": 28,
      "outputs": [
        {
          "output_type": "stream",
          "text": [
            "47\n",
            "47\n",
            "185\n",
            "185\n"
          ],
          "name": "stdout"
        }
      ]
    },
    {
      "cell_type": "code",
      "metadata": {
        "id": "unQl4LHclXr2",
        "colab_type": "code",
        "colab": {}
      },
      "source": [
        "!rm -r /content/pycococreator/ucsb_dataset/Original_Images"
      ],
      "execution_count": 29,
      "outputs": []
    },
    {
      "cell_type": "code",
      "metadata": {
        "id": "q_IyrMp23n5g",
        "colab_type": "code",
        "colab": {
          "base_uri": "https://localhost:8080/",
          "height": 34
        },
        "outputId": "6baa4d1c-e54d-4b90-a5f7-38080d387571"
      },
      "source": [
        "ls /content/pycococreator/ucsb_dataset"
      ],
      "execution_count": 30,
      "outputs": [
        {
          "output_type": "stream",
          "text": [
            "\u001b[0m\u001b[01;34mtest\u001b[0m/  \u001b[01;34mtest_ann\u001b[0m/  \u001b[01;34mtrain\u001b[0m/  \u001b[01;34mtrain_ann\u001b[0m/\n"
          ],
          "name": "stdout"
        }
      ]
    },
    {
      "cell_type": "markdown",
      "metadata": {
        "id": "XQ583ge3104l",
        "colab_type": "text"
      },
      "source": [
        "change filenames to coco format"
      ]
    },
    {
      "cell_type": "code",
      "metadata": {
        "id": "9SSCoBFFmuGl",
        "colab_type": "code",
        "colab": {}
      },
      "source": [
        "!mv /content/pycococreator/ucsb_dataset /content/pycococreator/ucsb_dataset_1"
      ],
      "execution_count": 31,
      "outputs": []
    },
    {
      "cell_type": "code",
      "metadata": {
        "id": "K04IyvPNm5RR",
        "colab_type": "code",
        "colab": {}
      },
      "source": [
        "!mkdir /content/pycococreator/ucsb_dataset\n",
        "!mkdir /content/pycococreator/ucsb_dataset/test\n",
        "!mkdir /content/pycococreator/ucsb_dataset/train\n",
        "!mkdir /content/pycococreator/ucsb_dataset/test_ann\n",
        "!mkdir /content/pycococreator/ucsb_dataset/train_ann"
      ],
      "execution_count": 32,
      "outputs": []
    },
    {
      "cell_type": "code",
      "metadata": {
        "id": "_MnIaTexnOQj",
        "colab_type": "code",
        "colab": {
          "base_uri": "https://localhost:8080/",
          "height": 34
        },
        "outputId": "23f23824-d08b-47b0-bd93-631ef3db0d6b"
      },
      "source": [
        "ls /content/pycococreator/ucsb_dataset"
      ],
      "execution_count": 33,
      "outputs": [
        {
          "output_type": "stream",
          "text": [
            "\u001b[0m\u001b[01;34mtest\u001b[0m/  \u001b[01;34mtest_ann\u001b[0m/  \u001b[01;34mtrain\u001b[0m/  \u001b[01;34mtrain_ann\u001b[0m/\n"
          ],
          "name": "stdout"
        }
      ]
    },
    {
      "cell_type": "code",
      "metadata": {
        "id": "ND2tkDTgnbRu",
        "colab_type": "code",
        "colab": {}
      },
      "source": [
        "for name in glob.glob('/content/pycococreator/ucsb_dataset_1/test/*benign*'):\n",
        "    source = name\n",
        "    temp_name = name[-13:-4]\n",
        "    destination = name[:35]+name[37:-13]+temp_name[-2:]+temp_name[:-2]+\".png\"\n",
        "    dest = shutil.copyfile(source, destination)"
      ],
      "execution_count": 34,
      "outputs": []
    },
    {
      "cell_type": "code",
      "metadata": {
        "id": "meQKmjiJvAfv",
        "colab_type": "code",
        "colab": {}
      },
      "source": [
        "for name in glob.glob('/content/pycococreator/ucsb_dataset_1/train/*benign*'):\n",
        "    source = name\n",
        "    temp_name = name[-13:-4]\n",
        "    destination = name[:35]+name[37:-13]+temp_name[-2:]+temp_name[:-2]+\".png\"\n",
        "    dest = shutil.copyfile(source, destination)"
      ],
      "execution_count": 35,
      "outputs": []
    },
    {
      "cell_type": "code",
      "metadata": {
        "id": "Kupt2gvkvoPB",
        "colab_type": "code",
        "colab": {}
      },
      "source": [
        "for name in glob.glob('/content/pycococreator/ucsb_dataset_1/test_ann/*benign*'):\n",
        "    source = name\n",
        "    temp_name = name[-13:-4]\n",
        "    destination = name[:35]+name[37:-13]+temp_name[-2:]+temp_name[:-2]+\".png\"\n",
        "    dest = shutil.copyfile(source, destination)"
      ],
      "execution_count": 36,
      "outputs": []
    },
    {
      "cell_type": "code",
      "metadata": {
        "id": "0UWPC74Wv6Y9",
        "colab_type": "code",
        "colab": {}
      },
      "source": [
        "for name in glob.glob('/content/pycococreator/ucsb_dataset_1/train_ann/*benign*'):\n",
        "    source = name\n",
        "    temp_name = name[-13:-4]\n",
        "    destination = name[:35]+name[37:-13]+temp_name[-2:]+temp_name[:-2]+\".png\"\n",
        "    dest = shutil.copyfile(source, destination)"
      ],
      "execution_count": 37,
      "outputs": []
    },
    {
      "cell_type": "code",
      "metadata": {
        "id": "_t2mERpP4vSU",
        "colab_type": "code",
        "colab": {}
      },
      "source": [
        "for name in glob.glob('/content/pycococreator/ucsb_dataset_1/test/*malignant*'):\n",
        "    source = name\n",
        "    temp_name = name[-16:-4]\n",
        "    destination = name[:35]+name[37:-16]+temp_name[-2:]+temp_name[:-2]+\".png\"\n",
        "    dest = shutil.copyfile(source, destination)"
      ],
      "execution_count": 38,
      "outputs": []
    },
    {
      "cell_type": "code",
      "metadata": {
        "id": "Op6mn0Pd4i8i",
        "colab_type": "code",
        "colab": {}
      },
      "source": [
        "for name in glob.glob('/content/pycococreator/ucsb_dataset_1/train/*malignant*'):\n",
        "    source = name\n",
        "    temp_name = name[-16:-4]\n",
        "    destination = name[:35]+name[37:-16]+temp_name[-2:]+temp_name[:-2]+\".png\"\n",
        "    dest = shutil.copyfile(source, destination)"
      ],
      "execution_count": 39,
      "outputs": []
    },
    {
      "cell_type": "code",
      "metadata": {
        "id": "AVJgwX_L4VXp",
        "colab_type": "code",
        "colab": {}
      },
      "source": [
        "for name in glob.glob('/content/pycococreator/ucsb_dataset_1/test_ann/*malignant*'):\n",
        "    source = name\n",
        "    temp_name = name[-16:-4]\n",
        "    destination = name[:35]+name[37:-16]+temp_name[-2:]+temp_name[:-2]+\".png\"\n",
        "    dest = shutil.copyfile(source, destination)"
      ],
      "execution_count": 40,
      "outputs": []
    },
    {
      "cell_type": "code",
      "metadata": {
        "id": "MB68d_Lr3SKY",
        "colab_type": "code",
        "colab": {}
      },
      "source": [
        "for name in glob.glob('/content/pycococreator/ucsb_dataset_1/train_ann/*malignant*'):\n",
        "    source = name\n",
        "    temp_name = name[-16:-4]\n",
        "    destination = name[:35]+name[37:-16]+temp_name[-2:]+temp_name[:-2]+\".png\"\n",
        "    dest = shutil.copyfile(source, destination)"
      ],
      "execution_count": 41,
      "outputs": []
    },
    {
      "cell_type": "code",
      "metadata": {
        "id": "g7yxf-Gd7Ry1",
        "colab_type": "code",
        "colab": {}
      },
      "source": [
        "!rm -r /content/pycococreator/ucsb_dataset_1"
      ],
      "execution_count": 42,
      "outputs": []
    },
    {
      "cell_type": "markdown",
      "metadata": {
        "id": "ReSnKcnu2CO3",
        "colab_type": "text"
      },
      "source": [
        "generate json"
      ]
    },
    {
      "cell_type": "code",
      "metadata": {
        "id": "Itrb1zUj_OEk",
        "colab_type": "code",
        "colab": {
          "base_uri": "https://localhost:8080/",
          "height": 34
        },
        "outputId": "0d83f644-1928-44cf-9643-615771154fca"
      },
      "source": [
        "cd /content/pycococreator"
      ],
      "execution_count": 43,
      "outputs": [
        {
          "output_type": "stream",
          "text": [
            "/content/pycococreator\n"
          ],
          "name": "stdout"
        }
      ]
    },
    {
      "cell_type": "code",
      "metadata": {
        "id": "008dHn-uGwsY",
        "colab_type": "code",
        "colab": {}
      },
      "source": [
        "import datetime\n",
        "import json\n",
        "import os\n",
        "import re\n",
        "import fnmatch\n",
        "from PIL import Image\n",
        "import numpy as np\n",
        "from pycococreatortools import pycococreatortools"
      ],
      "execution_count": 44,
      "outputs": []
    },
    {
      "cell_type": "code",
      "metadata": {
        "id": "SsyLu-Vv6Txb",
        "colab_type": "code",
        "colab": {}
      },
      "source": [
        "from google.colab.patches import cv2_imshow"
      ],
      "execution_count": 45,
      "outputs": []
    },
    {
      "cell_type": "code",
      "metadata": {
        "id": "VM8Yq9DQ-QM0",
        "colab_type": "code",
        "colab": {}
      },
      "source": [
        "ROOT_DIR = 'ucsb_dataset'\n",
        "IMAGE_DIR = os.path.join(ROOT_DIR, \"train\")\n",
        "ANNOTATION_DIR = os.path.join(ROOT_DIR, \"train_ann\")\n",
        "\n",
        "INFO = {\n",
        "    \"description\": \"Example Dataset\",\n",
        "    \"url\": \"https://github.com/waspinator/pycococreator\",\n",
        "    \"version\": \"0.1.0\",\n",
        "    \"year\": 2018,\n",
        "    \"contributor\": \"waspinator\",\n",
        "    \"date_created\": datetime.datetime.utcnow().isoformat(' ')\n",
        "}\n",
        "\n",
        "LICENSES = [\n",
        "    {\n",
        "        \"id\": 1,\n",
        "        \"name\": \"Attribution-NonCommercial-ShareAlike License\",\n",
        "        \"url\": \"http://creativecommons.org/licenses/by-nc-sa/2.0/\"\n",
        "    }\n",
        "]\n",
        "\n",
        "CATEGORIES = [\n",
        "    {\n",
        "        'id': 1,\n",
        "        'name': 'benign',\n",
        "        'supercategory': 'cancer',\n",
        "    },\n",
        "    {\n",
        "        'id': 2,\n",
        "        'name': 'malignant',\n",
        "        'supercategory': 'cancer',\n",
        "    },\n",
        "]\n",
        "def filter_for_jpeg(root, files):\n",
        "    file_types = ['*.png']\n",
        "    file_types = r'|'.join([fnmatch.translate(x) for x in file_types])\n",
        "    files = [os.path.join(root, f) for f in files]\n",
        "    files = [f for f in files if re.match(file_types, f)]\n",
        "    \n",
        "    return files\n",
        "\n",
        "def filter_for_annotations(root, files, image_filename):\n",
        "    file_types = ['*.png']\n",
        "    file_types = r'|'.join([fnmatch.translate(x) for x in file_types])\n",
        "    basename_no_extension = os.path.splitext(os.path.basename(image_filename))[0]\n",
        "    file_name_prefix = basename_no_extension + '.*'\n",
        "    files = [os.path.join(root, f) for f in files]\n",
        "    files = [f for f in files if re.match(file_types, f)]\n",
        "    files = [f for f in files if re.match(file_name_prefix, os.path.splitext(os.path.basename(f))[0])]\n",
        "\n",
        "    return files\n",
        "\n",
        "def gen_coco_json():\n",
        "\n",
        "    coco_output = {\n",
        "        \"info\": INFO,\n",
        "        \"licenses\": LICENSES,\n",
        "        \"categories\": CATEGORIES,\n",
        "        \"images\": [],\n",
        "        \"annotations\": []\n",
        "    }\n",
        "\n",
        "    image_id = 1\n",
        "    segmentation_id = 1\n",
        "    qq={\"id\":1}\n",
        "    \n",
        "    # filter for jpeg images\n",
        "    for root, _, files in os.walk(IMAGE_DIR):\n",
        "        image_files = filter_for_jpeg(root, files)\n",
        "\n",
        "        # go through each image\n",
        "        for image_filename in image_files:\n",
        "            image = Image.open(image_filename)\n",
        "            image_info = pycococreatortools.create_image_info(\n",
        "                image_id, os.path.basename(image_filename), image.size)\n",
        "            coco_output[\"images\"].append(image_info)\n",
        "\n",
        "            # filter for associated png annotations\n",
        "            for root, _, files in os.walk(ANNOTATION_DIR):\n",
        "                annotation_files = filter_for_annotations(root, files, image_filename)\n",
        "\n",
        "                # go through each associated annotation\n",
        "                for annotation_filename in annotation_files:\n",
        "                    \n",
        "                    #print(annotation_filename)\n",
        "                    class_id = [x['id'] for x in CATEGORIES if x['name'] in annotation_filename][0]\n",
        "\n",
        "                    category_info = {'id': class_id, 'is_crowd': 'crowd' in image_filename}\n",
        "                    binary_mask = np.asarray(Image.open(annotation_filename)\n",
        "                        .convert('1')).astype(np.uint8)\n",
        "                    \n",
        "                    annotation_info = pycococreatortools.create_annotation_infos(\n",
        "                        segmentation_id, image_id, category_info, binary_mask,\n",
        "                        image.size, tolerance=2)\n",
        "\n",
        "                    if annotation_info is not None:\n",
        "                      for ann_info_coco in annotation_info:\n",
        "                        if ann_info_coco is not None:\n",
        "                          coco_output[\"annotations\"].append(ann_info_coco)\n",
        "                          qq = ann_info_coco\n",
        "                    \n",
        "                    segmentation_id = qq[\"id\"] + 1\n",
        "\n",
        "            image_id = image_id + 1\n",
        "            #print(annotation_info)\n",
        "            #if(image_id == 220):\n",
        "              #print(annotation_filename)\n",
        "              #img = cv2.imread(annotation_filename, cv2.IMREAD_UNCHANGED)\n",
        "              #cv2_imshow(img)\n",
        "              #break\n",
        "\n",
        "    with open('{}/train.json'.format(ROOT_DIR), 'w') as output_json_file:\n",
        "        json.dump(coco_output, output_json_file)\n",
        "\n",
        "\n",
        "gen_coco_json()"
      ],
      "execution_count": 46,
      "outputs": []
    },
    {
      "cell_type": "code",
      "metadata": {
        "id": "GeQfme714a7g",
        "colab_type": "code",
        "colab": {}
      },
      "source": [
        "ROOT_DIR = 'ucsb_dataset'\n",
        "IMAGE_DIR = os.path.join(ROOT_DIR, \"test\")\n",
        "ANNOTATION_DIR = os.path.join(ROOT_DIR, \"test_ann\")\n",
        "\n",
        "INFO = {\n",
        "    \"description\": \"Example Dataset\",\n",
        "    \"url\": \"https://github.com/waspinator/pycococreator\",\n",
        "    \"version\": \"0.1.0\",\n",
        "    \"year\": 2018,\n",
        "    \"contributor\": \"waspinator\",\n",
        "    \"date_created\": datetime.datetime.utcnow().isoformat(' ')\n",
        "}\n",
        "\n",
        "LICENSES = [\n",
        "    {\n",
        "        \"id\": 1,\n",
        "        \"name\": \"Attribution-NonCommercial-ShareAlike License\",\n",
        "        \"url\": \"http://creativecommons.org/licenses/by-nc-sa/2.0/\"\n",
        "    }\n",
        "]\n",
        "\n",
        "CATEGORIES = [\n",
        "    {\n",
        "        'id': 1,\n",
        "        'name': 'benign',\n",
        "        'supercategory': 'cancer',\n",
        "    },\n",
        "    {\n",
        "        'id': 2,\n",
        "        'name': 'malignant',\n",
        "        'supercategory': 'cancer',\n",
        "    },\n",
        "]\n",
        "def filter_for_jpeg(root, files):\n",
        "    file_types = ['*.png']\n",
        "    file_types = r'|'.join([fnmatch.translate(x) for x in file_types])\n",
        "    files = [os.path.join(root, f) for f in files]\n",
        "    files = [f for f in files if re.match(file_types, f)]\n",
        "    \n",
        "    return files\n",
        "\n",
        "def filter_for_annotations(root, files, image_filename):\n",
        "    file_types = ['*.png']\n",
        "    file_types = r'|'.join([fnmatch.translate(x) for x in file_types])\n",
        "    basename_no_extension = os.path.splitext(os.path.basename(image_filename))[0]\n",
        "    file_name_prefix = basename_no_extension + '.*'\n",
        "    files = [os.path.join(root, f) for f in files]\n",
        "    files = [f for f in files if re.match(file_types, f)]\n",
        "    files = [f for f in files if re.match(file_name_prefix, os.path.splitext(os.path.basename(f))[0])]\n",
        "\n",
        "    return files\n",
        "\n",
        "def gen_coco_json():\n",
        "\n",
        "    coco_output = {\n",
        "        \"info\": INFO,\n",
        "        \"licenses\": LICENSES,\n",
        "        \"categories\": CATEGORIES,\n",
        "        \"images\": [],\n",
        "        \"annotations\": []\n",
        "    }\n",
        "\n",
        "    image_id = 1\n",
        "    segmentation_id = 1\n",
        "    qq={\"id\":1}\n",
        "    \n",
        "    # filter for jpeg images\n",
        "    for root, _, files in os.walk(IMAGE_DIR):\n",
        "        image_files = filter_for_jpeg(root, files)\n",
        "\n",
        "        # go through each image\n",
        "        for image_filename in image_files:\n",
        "            image = Image.open(image_filename)\n",
        "            image_info = pycococreatortools.create_image_info(\n",
        "                image_id, os.path.basename(image_filename), image.size)\n",
        "            coco_output[\"images\"].append(image_info)\n",
        "\n",
        "            # filter for associated png annotations\n",
        "            for root, _, files in os.walk(ANNOTATION_DIR):\n",
        "                annotation_files = filter_for_annotations(root, files, image_filename)\n",
        "\n",
        "                # go through each associated annotation\n",
        "                for annotation_filename in annotation_files:\n",
        "                    \n",
        "                    #print(annotation_filename)\n",
        "                    class_id = [x['id'] for x in CATEGORIES if x['name'] in annotation_filename][0]\n",
        "\n",
        "                    category_info = {'id': class_id, 'is_crowd': 'crowd' in image_filename}\n",
        "                    binary_mask = np.asarray(Image.open(annotation_filename)\n",
        "                        .convert('1')).astype(np.uint8)\n",
        "                    \n",
        "                    annotation_info = pycococreatortools.create_annotation_infos(\n",
        "                        segmentation_id, image_id, category_info, binary_mask,\n",
        "                        image.size, tolerance=2)\n",
        "\n",
        "                    if annotation_info is not None:\n",
        "                      for ann_info_coco in annotation_info:\n",
        "                        if ann_info_coco is not None:\n",
        "                          coco_output[\"annotations\"].append(ann_info_coco)\n",
        "                          qq = ann_info_coco\n",
        "                    \n",
        "                    segmentation_id = qq[\"id\"] + 1\n",
        "\n",
        "            image_id = image_id + 1\n",
        "            #print(annotation_info)\n",
        "            #if(image_id == 20):\n",
        "            #  print(annotation_filename)\n",
        "            #  break\n",
        "\n",
        "    with open('{}/test.json'.format(ROOT_DIR), 'w') as output_json_file:\n",
        "        json.dump(coco_output, output_json_file)\n",
        "\n",
        "\n",
        "gen_coco_json()"
      ],
      "execution_count": 50,
      "outputs": []
    },
    {
      "cell_type": "code",
      "metadata": {
        "id": "up29szET_5iC",
        "colab_type": "code",
        "colab": {}
      },
      "source": [
        "%matplotlib inline\n",
        "from pycocotools.coco import COCO\n",
        "import numpy as np\n",
        "import skimage.io as io\n",
        "import matplotlib.pyplot as plt\n",
        "import pylab"
      ],
      "execution_count": 51,
      "outputs": []
    },
    {
      "cell_type": "code",
      "metadata": {
        "id": "HVh4I89qBPt4",
        "colab_type": "code",
        "colab": {}
      },
      "source": [
        "image_directory = '/content/pycococreator/ucsb_dataset/train/'\n",
        "annotation_file = '/content/pycococreator/ucsb_dataset/train.json'"
      ],
      "execution_count": 54,
      "outputs": []
    },
    {
      "cell_type": "code",
      "metadata": {
        "id": "VfCC2LmaBk3c",
        "colab_type": "code",
        "colab": {
          "base_uri": "https://localhost:8080/",
          "height": 85
        },
        "outputId": "db7af45c-db02-43cd-dc5d-0553aa08e02f"
      },
      "source": [
        "example_coco = COCO(annotation_file)"
      ],
      "execution_count": 55,
      "outputs": [
        {
          "output_type": "stream",
          "text": [
            "loading annotations into memory...\n",
            "Done (t=0.01s)\n",
            "creating index...\n",
            "index created!\n"
          ],
          "name": "stdout"
        }
      ]
    },
    {
      "cell_type": "code",
      "metadata": {
        "id": "IV6MrB-4BnHF",
        "colab_type": "code",
        "colab": {
          "base_uri": "https://localhost:8080/",
          "height": 102
        },
        "outputId": "2353c2b6-21d8-40cd-e65d-051a6ead88c2"
      },
      "source": [
        "\n",
        "categories = example_coco.loadCats(example_coco.getCatIds())\n",
        "category_names = [category['name'] for category in categories]\n",
        "print('Custom COCO categories: \\n{}\\n'.format(' '.join(category_names)))\n",
        "\n",
        "category_names = set([category['supercategory'] for category in categories])\n",
        "print('Custom COCO supercategories: \\n{}'.format(' '.join(category_names)))"
      ],
      "execution_count": 56,
      "outputs": [
        {
          "output_type": "stream",
          "text": [
            "Custom COCO categories: \n",
            "benign malignant\n",
            "\n",
            "Custom COCO supercategories: \n",
            "cancer\n"
          ],
          "name": "stdout"
        }
      ]
    },
    {
      "cell_type": "code",
      "metadata": {
        "id": "tt-J7tItBrjZ",
        "colab_type": "code",
        "colab": {}
      },
      "source": [
        "category_ids = example_coco.getCatIds(catNms=['malignant'])\n",
        "image_ids = example_coco.getImgIds(catIds=category_ids)\n",
        "image_data = example_coco.loadImgs(image_ids[np.random.randint(0, len(image_ids))])[0]"
      ],
      "execution_count": 57,
      "outputs": []
    },
    {
      "cell_type": "code",
      "metadata": {
        "id": "_nW2--4XBukF",
        "colab_type": "code",
        "colab": {
          "base_uri": "https://localhost:8080/",
          "height": 153
        },
        "outputId": "c6b2b191-3144-4a7c-ba85-7b5ca44b68c0"
      },
      "source": [
        "image_data"
      ],
      "execution_count": 58,
      "outputs": [
        {
          "output_type": "execute_result",
          "data": {
            "text/plain": [
              "{'coco_url': '',\n",
              " 'date_captured': '2020-09-03 14:01:19.487928',\n",
              " 'file_name': 'ytma49_11130314_malignant.png',\n",
              " 'flickr_url': '',\n",
              " 'height': 384,\n",
              " 'id': 169,\n",
              " 'license': 1,\n",
              " 'width': 448}"
            ]
          },
          "metadata": {
            "tags": []
          },
          "execution_count": 58
        }
      ]
    },
    {
      "cell_type": "code",
      "metadata": {
        "id": "vlf9z7UqBxeI",
        "colab_type": "code",
        "colab": {
          "base_uri": "https://localhost:8080/",
          "height": 248
        },
        "outputId": "5813c8eb-67a5-4ef5-eeef-56c94213a522"
      },
      "source": [
        "image = io.imread(image_directory + image_data['file_name'])\n",
        "plt.imshow(image); plt.axis('off')\n",
        "pylab.rcParams['figure.figsize'] = (8.0, 10.0)\n",
        "annotation_ids = example_coco.getAnnIds(imgIds=image_data['id'], catIds=category_ids, iscrowd=None)\n",
        "annotations = example_coco.loadAnns(annotation_ids)\n",
        "example_coco.showAnns(annotations)"
      ],
      "execution_count": 59,
      "outputs": [
        {
          "output_type": "display_data",
          "data": {
            "image/png": "[encoded data removed]",
            "text/plain": [
              "<Figure size 432x288 with 1 Axes>"
            ]
          },
          "metadata": {
            "tags": [],
            "needs_background": "light"
          }
        }
      ]
    },
    {
      "cell_type": "code",
      "metadata": {
        "id": "A8eaq9H22JbT",
        "colab_type": "code",
        "colab": {}
      },
      "source": [
        "*"
      ],
      "execution_count": null,
      "outputs": []
    },
    {
      "cell_type": "code",
      "metadata": {
        "id": "dwVh7tohJXud",
        "colab_type": "code",
        "colab": {}
      },
      "source": [
        "!cp -r /content/pycococreator/ucsb_dataset \"/content/drive/My Drive/Colab Notebooks/Datasets\""
      ],
      "execution_count": 63,
      "outputs": []
    },
    {
      "cell_type": "code",
      "metadata": {
        "id": "ry_gGsdC6YVV",
        "colab_type": "code",
        "colab": {}
      },
      "source": [
        ""
      ],
      "execution_count": null,
      "outputs": []
    }
  ]
}